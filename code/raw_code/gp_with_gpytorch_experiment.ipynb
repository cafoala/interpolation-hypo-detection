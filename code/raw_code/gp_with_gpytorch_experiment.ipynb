{
 "cells": [
  {
   "cell_type": "code",
   "execution_count": 1,
   "id": "e80f60f9-e5a6-460e-9313-5872ae78509c",
   "metadata": {},
   "outputs": [
    {
     "ename": "ModuleNotFoundError",
     "evalue": "No module named 'gpytorch'",
     "output_type": "error",
     "traceback": [
      "\u001b[1;31m---------------------------------------------------------------------------\u001b[0m",
      "\u001b[1;31mModuleNotFoundError\u001b[0m                       Traceback (most recent call last)",
      "\u001b[1;32m<ipython-input-1-ef602c83ddee>\u001b[0m in \u001b[0;36m<module>\u001b[1;34m\u001b[0m\n\u001b[0;32m      1\u001b[0m \u001b[1;31m# GPyTorch Imports\u001b[0m\u001b[1;33m\u001b[0m\u001b[1;33m\u001b[0m\u001b[1;33m\u001b[0m\u001b[0m\n\u001b[1;32m----> 2\u001b[1;33m \u001b[1;32mimport\u001b[0m \u001b[0mgpytorch\u001b[0m\u001b[1;33m\u001b[0m\u001b[1;33m\u001b[0m\u001b[0m\n\u001b[0m\u001b[0;32m      3\u001b[0m \u001b[1;32mfrom\u001b[0m \u001b[0mgpytorch\u001b[0m\u001b[1;33m.\u001b[0m\u001b[0mmodels\u001b[0m \u001b[1;32mimport\u001b[0m \u001b[0mExactGP\u001b[0m\u001b[1;33m,\u001b[0m \u001b[0mIndependentModelList\u001b[0m\u001b[1;33m\u001b[0m\u001b[1;33m\u001b[0m\u001b[0m\n\u001b[0;32m      4\u001b[0m \u001b[1;32mfrom\u001b[0m \u001b[0mgpytorch\u001b[0m\u001b[1;33m.\u001b[0m\u001b[0mmeans\u001b[0m \u001b[1;32mimport\u001b[0m \u001b[0mConstantMean\u001b[0m\u001b[1;33m,\u001b[0m \u001b[0mMultitaskMean\u001b[0m\u001b[1;33m\u001b[0m\u001b[1;33m\u001b[0m\u001b[0m\n\u001b[0;32m      5\u001b[0m \u001b[1;32mfrom\u001b[0m \u001b[0mgpytorch\u001b[0m\u001b[1;33m.\u001b[0m\u001b[0mkernels\u001b[0m \u001b[1;32mimport\u001b[0m \u001b[0mScaleKernel\u001b[0m\u001b[1;33m,\u001b[0m \u001b[0mMultitaskKernel\u001b[0m\u001b[1;33m\u001b[0m\u001b[1;33m\u001b[0m\u001b[0m\n",
      "\u001b[1;31mModuleNotFoundError\u001b[0m: No module named 'gpytorch'"
     ]
    }
   ],
   "source": [
    "# GPyTorch Imports\n",
    "import gpytorch\n",
    "from gpytorch.models import ExactGP, IndependentModelList\n",
    "from gpytorch.means import ConstantMean, MultitaskMean\n",
    "from gpytorch.kernels import ScaleKernel, MultitaskKernel\n",
    "from gpytorch.kernels import RBFKernel, RBFKernel, ProductKernel\n",
    "from gpytorch.likelihoods import GaussianLikelihood, LikelihoodList, MultitaskGaussianLikelihood\n",
    "from gpytorch.mlls import SumMarginalLogLikelihood, ExactMarginalLogLikelihood\n",
    "from gpytorch.distributions import MultivariateNormal, MultitaskMultivariateNormal\n",
    "\n",
    "# PyTorch\n",
    "import torch\n",
    "\n",
    "# Math, avoiding memory leak, and timing\n",
    "import math\n",
    "import gc\n",
    "import math\n",
    "\n",
    "import pandas"
   ]
  },
  {
   "cell_type": "code",
   "execution_count": null,
   "id": "4752c589-3263-40d7-981f-4d2f3e7fb59e",
   "metadata": {},
   "outputs": [],
   "source": []
  }
 ],
 "metadata": {
  "kernelspec": {
   "display_name": "Python 3",
   "language": "python",
   "name": "python3"
  },
  "language_info": {
   "codemirror_mode": {
    "name": "ipython",
    "version": 3
   },
   "file_extension": ".py",
   "mimetype": "text/x-python",
   "name": "python",
   "nbconvert_exporter": "python",
   "pygments_lexer": "ipython3",
   "version": "3.8.5"
  }
 },
 "nbformat": 4,
 "nbformat_minor": 5
}
